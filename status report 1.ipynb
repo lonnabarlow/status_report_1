{
 "cells": [
  {
   "cell_type": "code",
   "execution_count": 1,
   "id": "762ca05a",
   "metadata": {},
   "outputs": [],
   "source": [
    "import pandas as pd\n",
    "import numpy as np"
   ]
  },
  {
   "cell_type": "code",
   "execution_count": null,
   "id": "86fca309",
   "metadata": {},
   "outputs": [],
   "source": [
    "df = pd.read_csv('nyc_squirrels.csv.webloc')"
   ]
  },
  {
   "cell_type": "markdown",
   "id": "72a11a4a",
   "metadata": {},
   "source": [
    "Sort through the data to find the columns that are boolean."
   ]
  },
  {
   "cell_type": "markdown",
   "id": "a5d7bf00",
   "metadata": {},
   "source": [
    "Sort for all the unique fur types."
   ]
  },
  {
   "cell_type": "markdown",
   "id": "5e5dddb8",
   "metadata": {},
   "source": [
    "Sort to find all the different other interactions that were recorded."
   ]
  },
  {
   "cell_type": "markdown",
   "id": "cdd101fb",
   "metadata": {},
   "source": [
    "Sort to compare the all the coloring columns."
   ]
  },
  {
   "cell_type": "markdown",
   "id": "2c849341",
   "metadata": {},
   "source": [
    "Sort to remove all the null entries."
   ]
  },
  {
   "cell_type": "code",
   "execution_count": null,
   "id": "e0ddafe2",
   "metadata": {},
   "outputs": [],
   "source": []
  }
 ],
 "metadata": {
  "kernelspec": {
   "display_name": "Python 3 (ipykernel)",
   "language": "python",
   "name": "python3"
  },
  "language_info": {
   "codemirror_mode": {
    "name": "ipython",
    "version": 3
   },
   "file_extension": ".py",
   "mimetype": "text/x-python",
   "name": "python",
   "nbconvert_exporter": "python",
   "pygments_lexer": "ipython3",
   "version": "3.10.2"
  }
 },
 "nbformat": 4,
 "nbformat_minor": 5
}
